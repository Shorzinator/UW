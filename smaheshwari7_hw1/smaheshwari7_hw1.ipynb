{
 "cells": [
  {
   "cell_type": "code",
   "execution_count": 1,
   "id": "27f455b4",
   "metadata": {},
   "outputs": [],
   "source": [
    "def puppy() :\n",
    "    print(\"woof\")"
   ]
  },
  {
   "cell_type": "code",
   "execution_count": 2,
   "id": "51820ce5",
   "metadata": {},
   "outputs": [],
   "source": [
    "def goat_pad(str1) :\n",
    "    print(\"goat\" + str1 + \"goat\")"
   ]
  },
  {
   "cell_type": "code",
   "execution_count": 10,
   "id": "161f5f86",
   "metadata": {},
   "outputs": [],
   "source": [
    "def printn(s, n) :\n",
    "    if n != 0 :\n",
    "        for i in range(n) :\n",
    "            print(s)"
   ]
  },
  {
   "cell_type": "code",
   "execution_count": 16,
   "id": "e76418ae",
   "metadata": {},
   "outputs": [],
   "source": [
    "def gcd(x, y) :\n",
    "    if y == 0 :\n",
    "        return x\n",
    "    else :\n",
    "        return gcd(y, x % y)"
   ]
  },
  {
   "cell_type": "code",
   "execution_count": 18,
   "id": "a21029db",
   "metadata": {},
   "outputs": [
    {
     "data": {
      "text/plain": [
       "300"
      ]
     },
     "execution_count": 18,
     "metadata": {},
     "output_type": "execute_result"
    }
   ],
   "source": [
    "gcd(1200, 300)"
   ]
  },
  {
   "cell_type": "code",
   "execution_count": 19,
   "id": "53e1c2e2",
   "metadata": {},
   "outputs": [
    {
     "data": {
      "text/plain": [
       "60"
      ]
     },
     "execution_count": 19,
     "metadata": {},
     "output_type": "execute_result"
    }
   ],
   "source": [
    "gcd(5040, 60)"
   ]
  },
  {
   "cell_type": "code",
   "execution_count": 20,
   "id": "10cd5797",
   "metadata": {},
   "outputs": [
    {
     "data": {
      "text/plain": [
       "1"
      ]
     },
     "execution_count": 20,
     "metadata": {},
     "output_type": "execute_result"
    }
   ],
   "source": [
    "gcd(29, 31)"
   ]
  },
  {
   "cell_type": "code",
   "execution_count": 21,
   "id": "a7f4f706",
   "metadata": {},
   "outputs": [
    {
     "data": {
      "text/plain": [
       "1"
      ]
     },
     "execution_count": 21,
     "metadata": {},
     "output_type": "execute_result"
    }
   ],
   "source": [
    "gcd(2022, 2023)"
   ]
  },
  {
   "cell_type": "code",
   "execution_count": 25,
   "id": "792e36ab",
   "metadata": {},
   "outputs": [
    {
     "data": {
      "text/plain": [
       "-1"
      ]
     },
     "execution_count": 25,
     "metadata": {},
     "output_type": "execute_result"
    }
   ],
   "source": [
    "gcd(-10, -13)"
   ]
  },
  {
   "cell_type": "markdown",
   "id": "dfdcf493",
   "metadata": {},
   "source": [
    "If there is a negative number involved while computing a GCD, it works the same way as it would have if the negative sign would not have been there. The only difference is, the answer is negative instead of being positive."
   ]
  },
  {
   "cell_type": "code",
   "execution_count": 12,
   "id": "0cd029a3",
   "metadata": {},
   "outputs": [],
   "source": [
    "import math\n",
    "\n",
    "def euler_limit(n) :\n",
    "    return math.pow((1 + (1 / n)), n)"
   ]
  },
  {
   "cell_type": "code",
   "execution_count": 13,
   "id": "85779676",
   "metadata": {},
   "outputs": [],
   "source": [
    "def factorial(k) :\n",
    "    if k == 0 :\n",
    "        return 1\n",
    "    else :\n",
    "        return k * factorial(k - 1)"
   ]
  },
  {
   "cell_type": "code",
   "execution_count": 14,
   "id": "0f19cc68",
   "metadata": {},
   "outputs": [],
   "source": [
    "def euler_infinite_sum(n) :\n",
    "    sum = 0\n",
    "    for i in range(n) :\n",
    "        sum += 1/factorial(i)\n",
    "        \n",
    "    return sum"
   ]
  },
  {
   "cell_type": "code",
   "execution_count": 15,
   "id": "55f06230",
   "metadata": {},
   "outputs": [],
   "source": [
    "def euler_approx(epsilon):\n",
    "    e_true = math.exp(1)\n",
    "    e_approx = 1\n",
    "    n = 0\n",
    "    term = 1\n",
    "    while abs(e_true - e_approx) >= epsilon:\n",
    "        n += 1\n",
    "        term *= 1/n\n",
    "        e_approx += term\n",
    "    return n"
   ]
  },
  {
   "cell_type": "code",
   "execution_count": 16,
   "id": "a8f55543",
   "metadata": {},
   "outputs": [],
   "source": [
    "def print_euler_sum_table(n) :\n",
    "    for i in range(1, n) :\n",
    "        print(euler_infinite_sum(i))"
   ]
  },
  {
   "cell_type": "code",
   "execution_count": 17,
   "id": "5c34a16a",
   "metadata": {},
   "outputs": [],
   "source": [
    "def print_euler_lim_table(n) :\n",
    "    for i in range(1, n) :\n",
    "        print(euler_limit(i))"
   ]
  },
  {
   "cell_type": "markdown",
   "id": "cbb90c11",
   "metadata": {},
   "source": [
    "When we compare the output for `print_euler_lim_table(n)` and `print_euler_sum_table(n)`, I can conclude that `print_euler_sum_table()` converges towards the true value of *e* faster."
   ]
  },
  {
   "cell_type": "code",
   "execution_count": 19,
   "id": "0d44e3fd",
   "metadata": {},
   "outputs": [],
   "source": [
    "def is_power_of_5(n) :\n",
    "    if n <= 0 :\n",
    "        return False\n",
    "    while n % 5 == 0 :\n",
    "        n /= 5\n",
    "        \n",
    "    return n == 1"
   ]
  },
  {
   "cell_type": "code",
   "execution_count": 20,
   "id": "5e90edc5",
   "metadata": {},
   "outputs": [],
   "source": [
    "def is_power(b, n) :\n",
    "    if n <= 0 :\n",
    "        return False\n",
    "    while n % b == 0 :\n",
    "        n /= b\n",
    "        \n",
    "    return n == 1"
   ]
  }
 ],
 "metadata": {
  "kernelspec": {
   "display_name": "Python 3 (ipykernel)",
   "language": "python",
   "name": "python3"
  },
  "language_info": {
   "codemirror_mode": {
    "name": "ipython",
    "version": 3
   },
   "file_extension": ".py",
   "mimetype": "text/x-python",
   "name": "python",
   "nbconvert_exporter": "python",
   "pygments_lexer": "ipython3",
   "version": "3.9.12"
  }
 },
 "nbformat": 4,
 "nbformat_minor": 5
}
